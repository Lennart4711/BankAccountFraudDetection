{
 "cells": [
  {
   "cell_type": "code",
   "execution_count": 1,
   "metadata": {},
   "outputs": [
    {
     "name": "stderr",
     "output_type": "stream",
     "text": [
      "c:\\Users\\Jörg\\AppData\\Local\\Programs\\Python\\Python39\\lib\\site-packages\\numpy\\_distributor_init.py:30: UserWarning: loaded more than 1 DLL from .libs:\n",
      "c:\\Users\\Jörg\\AppData\\Local\\Programs\\Python\\Python39\\lib\\site-packages\\numpy\\.libs\\libopenblas.EL2C6PLE4ZYW3ECEVIV3OXXGRN2NRFM2.gfortran-win_amd64.dll\n",
      "c:\\Users\\Jörg\\AppData\\Local\\Programs\\Python\\Python39\\lib\\site-packages\\numpy\\.libs\\libopenblas.GK7GX5KEQ4F6UYO3P26ULGBQYHGQO7J4.gfortran-win_amd64.dll\n",
      "  warnings.warn(\"loaded more than 1 DLL from .libs:\"\n"
     ]
    }
   ],
   "source": [
    "import matplotlib.pyplot as plt\n",
    "import pandas as pd\n",
    "import numpy as np\n",
    "\n",
    "import xgboost as xgb\n",
    "from sklearn.metrics import accuracy_score\n",
    "from sklearn.preprocessing import OneHotEncoder\n",
    "from sklearn.ensemble import RandomForestClassifier\n",
    "from sklearn.linear_model import LogisticRegression\n",
    "from sklearn.model_selection import train_test_split\n",
    "\n",
    "# imports for neural network\n",
    "import tensorflow as tf\n",
    "from tensorflow import keras\n",
    "from keras_visualizer import visualizer  "
   ]
  },
  {
   "cell_type": "code",
   "execution_count": 2,
   "id": "455a16b6",
   "metadata": {},
   "outputs": [
    {
     "data": {
      "text/plain": [
       "fraud_bool                          1.000000\n",
       "credit_risk_score                   0.070624\n",
       "proposed_credit_limit               0.068907\n",
       "customer_age                        0.062959\n",
       "income                              0.045079\n",
       "device_distinct_emails_8w           0.035704\n",
       "current_address_months_count        0.033701\n",
       "email_is_free                       0.027758\n",
       "foreign_request                     0.016885\n",
       "month                               0.013250\n",
       "session_length_in_minutes           0.008999\n",
       "zip_count_4w                        0.005212\n",
       "days_since_request                  0.000567\n",
       "bank_months_count                  -0.003222\n",
       "velocity_24h                       -0.011183\n",
       "velocity_4w                        -0.011536\n",
       "bank_branch_count_8w               -0.011577\n",
       "phone_mobile_valid                 -0.013180\n",
       "velocity_6h                        -0.016892\n",
       "intended_balcon_amount             -0.024524\n",
       "prev_address_months_count          -0.026031\n",
       "phone_home_valid                   -0.035128\n",
       "has_other_cards                    -0.035156\n",
       "name_email_similarity              -0.036720\n",
       "date_of_birth_distinct_emails_4w   -0.043224\n",
       "keep_alive_session                 -0.050296\n",
       "Name: fraud_bool, dtype: float64"
      ]
     },
     "execution_count": 2,
     "metadata": {},
     "output_type": "execute_result"
    }
   ],
   "source": [
    "# load Base.csv\n",
    "df = pd.read_csv('Base.csv')\n",
    "# remove \"device_fraud_count\"\n",
    "df = df.drop(['device_fraud_count'], axis=1, errors='ignore') # It's 0 for all rows\n",
    "# show only the correlation between the variables and the target\n",
    "df.corr()['fraud_bool'].sort_values(ascending=False)"
   ]
  },
  {
   "cell_type": "code",
   "execution_count": 3,
   "id": "a8bd2e5f",
   "metadata": {},
   "outputs": [
    {
     "data": {
      "text/plain": [
       "0    988971\n",
       "1     11029\n",
       "Name: fraud_bool, dtype: int64"
      ]
     },
     "execution_count": 3,
     "metadata": {},
     "output_type": "execute_result"
    }
   ],
   "source": [
    "# count the number frauds and non-frauds\n",
    "df['fraud_bool'].value_counts()"
   ]
  },
  {
   "cell_type": "code",
   "execution_count": 4,
   "id": "e18b2550",
   "metadata": {},
   "outputs": [],
   "source": [
    "# # Keep all the frauds and equal number of non-frauds\n",
    "# df_fraud = df[df['fraud_bool']==1]\n",
    "# df_non_fraud = df[df['fraud_bool']==0].sample(n=len(df_fraud), random_state=42)\n",
    "# df = pd.concat([df_fraud, df_non_fraud])\n",
    "\n",
    "# # count the number frauds and non-frauds\n",
    "# df['fraud_bool'].value_counts()"
   ]
  },
  {
   "attachments": {},
   "cell_type": "markdown",
   "id": "7bd6bbe3",
   "metadata": {},
   "source": [
    "I thought it would be better to balance the number of frauds and non frauds but then I get only 0.8 accuraccy. If I leave this out, I get 0.99. Because of that, I assume this approach is wrong and that there is a definitive answer for every entry if it is fraud or not."
   ]
  },
  {
   "cell_type": "code",
   "execution_count": 5,
   "id": "e036aadc",
   "metadata": {},
   "outputs": [],
   "source": [
    "# create train and test data\n",
    "\n",
    "X = df.drop(['fraud_bool'], axis=1)\n",
    "y = df['fraud_bool']\n",
    "\n",
    "X_train, X_test, y_train, y_test = train_test_split(X, y, test_size=0.2, random_state=42)"
   ]
  },
  {
   "cell_type": "code",
   "execution_count": 6,
   "id": "90d0c595",
   "metadata": {},
   "outputs": [],
   "source": [
    "# onehot encoding for categorical variables\n",
    "\n",
    "s = (X_train.dtypes == 'object')\n",
    "object_cols = list(s[s].index)\n",
    "\n",
    "ohe = OneHotEncoder(sparse=False, handle_unknown='ignore')\n",
    "ohe_cols_train = pd.DataFrame(ohe.fit_transform(X_train[object_cols]))\n",
    "ohe_cols_test = pd.DataFrame(ohe.transform(X_test[object_cols]))\n",
    "\n",
    "ohe_cols_train.index = X_train.index\n",
    "ohe_cols_test.index = X_test.index\n",
    "\n",
    "num_X_train = X_train.drop(object_cols, axis=1)\n",
    "num_X_test = X_test.drop(object_cols, axis=1)\n",
    "\n",
    "X_train = pd.concat([num_X_train, ohe_cols_train], axis=1)\n",
    "X_test = pd.concat([num_X_test, ohe_cols_test], axis=1)\n"
   ]
  },
  {
   "attachments": {},
   "cell_type": "markdown",
   "id": "514a4e84",
   "metadata": {},
   "source": [
    "## Model Creation\n",
    "### Baseline Models"
   ]
  },
  {
   "cell_type": "code",
   "execution_count": 7,
   "id": "28362504",
   "metadata": {},
   "outputs": [],
   "source": [
    "# # create baseline models\n",
    "\n",
    "# # create baseline model xgboost\n",
    "# xgb_model = xgb.XGBClassifier()\n",
    "# xgb_model.fit(X_train, y_train, verbose=False)\n",
    "# y_pred = xgb_model.predict(X_test)\n",
    "# print(accuracy_score(y_test, y_pred))\n",
    "\n",
    "# # create baseline model random forest\n",
    "# rf_model = RandomForestClassifier()\n",
    "# rf_model.fit(X_train, y_train)\n",
    "# y_pred = rf_model.predict(X_test)\n",
    "# print(accuracy_score(y_test, y_pred))\n",
    "\n",
    "# # create baseline model logistic regression\n",
    "# lr_model = LogisticRegression()\n",
    "# lr_model.fit(X_train, y_train)\n",
    "# y_pred = lr_model.predict(X_test)\n",
    "# print(accuracy_score(y_test, y_pred))"
   ]
  },
  {
   "attachments": {},
   "cell_type": "markdown",
   "id": "50e394b8",
   "metadata": {},
   "source": [
    "### Some utility functions for testing keras models"
   ]
  },
  {
   "cell_type": "code",
   "execution_count": 8,
   "id": "729de99c",
   "metadata": {},
   "outputs": [],
   "source": [
    "def plot_history(history):\n",
    "    plt.plot(history.history['binary_accuracy'], label='accuracy')\n",
    "    plt.plot(history.history['val_binary_accuracy'], label = 'val_accuracy')\n",
    "    plt.xlabel('Epoch')\n",
    "    plt.ylabel('Accuracy')\n",
    "    plt.ylim([0.5, 1])\n",
    "    plt.legend(loc='lower right')"
   ]
  },
  {
   "cell_type": "code",
   "execution_count": 9,
   "id": "76c6895a",
   "metadata": {},
   "outputs": [],
   "source": [
    "def train_eval_model(model):\n",
    "    model.compile(\n",
    "        optimizer='adam',\n",
    "        loss='binary_crossentropy',\n",
    "        metrics=['binary_accuracy'],\n",
    "    )\n",
    "\n",
    "\n",
    "    early_stopping = keras.callbacks.EarlyStopping(\n",
    "        patience=10,\n",
    "        min_delta=0.001,\n",
    "        restore_best_weights=True,\n",
    "    )\n",
    "\n",
    "\n",
    "    history = model.fit(\n",
    "        X_train, y_train,\n",
    "        validation_data=(X_test, y_test),\n",
    "        batch_size=512,\n",
    "        epochs=1000,\n",
    "        callbacks=[early_stopping],\n",
    "        verbose=1, # hide the output because we have so many epochs\n",
    "    )\n",
    "    \n",
    "    y_pred = model.predict(X_test)\n",
    "    y_pred = np.where(y_pred > 0.5, 1, 0)\n",
    "    plot_history(history)\n",
    "    return accuracy_score(y_test, y_pred)\n"
   ]
  },
  {
   "cell_type": "code",
   "execution_count": 10,
   "id": "57bbbe7a",
   "metadata": {},
   "outputs": [
    {
     "name": "stdout",
     "output_type": "stream",
     "text": [
      "Epoch 1/1000\n",
      "1563/1563 [==============================] - 3s 2ms/step - loss: 4.1867 - binary_accuracy: 0.9801 - val_loss: 0.0658 - val_binary_accuracy: 0.9875\n",
      "Epoch 2/1000\n",
      "1563/1563 [==============================] - 2s 1ms/step - loss: 0.1150 - binary_accuracy: 0.9869 - val_loss: 0.0561 - val_binary_accuracy: 0.9886\n",
      "Epoch 3/1000\n",
      "1563/1563 [==============================] - 2s 1ms/step - loss: 0.1076 - binary_accuracy: 0.9870 - val_loss: 0.0987 - val_binary_accuracy: 0.9889\n",
      "Epoch 4/1000\n",
      "1563/1563 [==============================] - 2s 1ms/step - loss: 0.0927 - binary_accuracy: 0.9875 - val_loss: 0.0492 - val_binary_accuracy: 0.9889\n",
      "Epoch 5/1000\n",
      "1563/1563 [==============================] - 2s 1ms/step - loss: 0.1177 - binary_accuracy: 0.9868 - val_loss: 0.0516 - val_binary_accuracy: 0.9880\n",
      "Epoch 6/1000\n",
      "1563/1563 [==============================] - 2s 1ms/step - loss: 0.1350 - binary_accuracy: 0.9871 - val_loss: 0.0584 - val_binary_accuracy: 0.9889\n",
      "Epoch 7/1000\n",
      "1563/1563 [==============================] - 2s 1ms/step - loss: 0.0859 - binary_accuracy: 0.9871 - val_loss: 0.0700 - val_binary_accuracy: 0.9889\n",
      "Epoch 8/1000\n",
      "1563/1563 [==============================] - 2s 1ms/step - loss: 0.0850 - binary_accuracy: 0.9875 - val_loss: 0.3838 - val_binary_accuracy: 0.9889\n",
      "Epoch 9/1000\n",
      "1563/1563 [==============================] - 2s 1ms/step - loss: 0.1059 - binary_accuracy: 0.9866 - val_loss: 0.2977 - val_binary_accuracy: 0.9889\n",
      "Epoch 10/1000\n",
      "1563/1563 [==============================] - 2s 1ms/step - loss: 0.1131 - binary_accuracy: 0.9869 - val_loss: 0.1532 - val_binary_accuracy: 0.9889\n",
      "Epoch 11/1000\n",
      "1563/1563 [==============================] - 2s 1ms/step - loss: 0.1216 - binary_accuracy: 0.9870 - val_loss: 0.0497 - val_binary_accuracy: 0.9887\n",
      "Epoch 12/1000\n",
      "1563/1563 [==============================] - 2s 1ms/step - loss: 0.0827 - binary_accuracy: 0.9874 - val_loss: 0.0702 - val_binary_accuracy: 0.9889\n",
      "Epoch 13/1000\n",
      "1563/1563 [==============================] - 2s 1ms/step - loss: 0.0946 - binary_accuracy: 0.9872 - val_loss: 0.0603 - val_binary_accuracy: 0.9847\n",
      "Epoch 14/1000\n",
      "1563/1563 [==============================] - 2s 1ms/step - loss: 0.1035 - binary_accuracy: 0.9872 - val_loss: 0.0579 - val_binary_accuracy: 0.9889\n",
      "6250/6250 [==============================] - 4s 691us/step\n"
     ]
    },
    {
     "data": {
      "text/plain": [
       "0.988865"
      ]
     },
     "execution_count": 10,
     "metadata": {},
     "output_type": "execute_result"
    },
    {
     "data": {
      "image/png": "[encoded data removed]",
      "text/plain": [
       "<Figure size 432x288 with 1 Axes>"
      ]
     },
     "metadata": {
      "needs_background": "light"
     },
     "output_type": "display_data"
    }
   ],
   "source": [
    "# create baseline model neural network\n",
    "model = keras.Sequential([\n",
    "    keras.layers.Dense(1, activation='sigmoid', input_shape=[X_train.shape[1]]),\n",
    "])\n",
    "train_eval_model(model)"
   ]
  },
  {
   "cell_type": "code",
   "execution_count": 11,
   "id": "43ea0e91",
   "metadata": {},
   "outputs": [],
   "source": [
    "visualizer(model, format='png',filename='model')"
   ]
  },
  {
   "cell_type": "code",
   "execution_count": 12,
   "id": "106f23ba",
   "metadata": {},
   "outputs": [
    {
     "name": "stdout",
     "output_type": "stream",
     "text": [
      "Epoch 1/1000\n",
      "1563/1563 [==============================] - 9s 5ms/step - loss: 0.1098 - binary_accuracy: 0.9665 - val_loss: 0.0527 - val_binary_accuracy: 0.9889\n",
      "Epoch 2/1000\n",
      "1563/1563 [==============================] - 8s 5ms/step - loss: 0.0512 - binary_accuracy: 0.9888 - val_loss: 0.0499 - val_binary_accuracy: 0.9889\n",
      "Epoch 3/1000\n",
      "1563/1563 [==============================] - 7s 5ms/step - loss: 0.0492 - binary_accuracy: 0.9889 - val_loss: 0.0488 - val_binary_accuracy: 0.9889\n",
      "Epoch 4/1000\n",
      "1563/1563 [==============================] - 8s 5ms/step - loss: 0.0486 - binary_accuracy: 0.9889 - val_loss: 0.0483 - val_binary_accuracy: 0.9889\n",
      "Epoch 5/1000\n",
      "1563/1563 [==============================] - 8s 5ms/step - loss: 0.0481 - binary_accuracy: 0.9889 - val_loss: 0.0479 - val_binary_accuracy: 0.9889\n",
      "Epoch 6/1000\n",
      "1563/1563 [==============================] - 8s 5ms/step - loss: 0.0477 - binary_accuracy: 0.9889 - val_loss: 0.0477 - val_binary_accuracy: 0.9889\n",
      "Epoch 7/1000\n",
      "1563/1563 [==============================] - 9s 6ms/step - loss: 0.0475 - binary_accuracy: 0.9890 - val_loss: 0.0475 - val_binary_accuracy: 0.9889\n",
      "Epoch 8/1000\n",
      "1563/1563 [==============================] - 10s 6ms/step - loss: 0.0473 - binary_accuracy: 0.9889 - val_loss: 0.0466 - val_binary_accuracy: 0.9889\n",
      "Epoch 9/1000\n",
      "1563/1563 [==============================] - 8s 5ms/step - loss: 0.0473 - binary_accuracy: 0.9889 - val_loss: 0.0470 - val_binary_accuracy: 0.9889\n",
      "Epoch 10/1000\n",
      "1563/1563 [==============================] - 8s 5ms/step - loss: 0.0471 - binary_accuracy: 0.9889 - val_loss: 0.0465 - val_binary_accuracy: 0.9889\n",
      "Epoch 11/1000\n",
      "1563/1563 [==============================] - 8s 5ms/step - loss: 0.0470 - binary_accuracy: 0.9889 - val_loss: 0.0464 - val_binary_accuracy: 0.9889\n",
      "Epoch 12/1000\n",
      "1563/1563 [==============================] - 8s 5ms/step - loss: 0.0468 - binary_accuracy: 0.9890 - val_loss: 0.0465 - val_binary_accuracy: 0.9889\n",
      "Epoch 13/1000\n",
      "1563/1563 [==============================] - 8s 5ms/step - loss: 0.0467 - binary_accuracy: 0.9890 - val_loss: 0.0463 - val_binary_accuracy: 0.9889\n",
      "Epoch 14/1000\n",
      "1563/1563 [==============================] - 8s 5ms/step - loss: 0.0467 - binary_accuracy: 0.9889 - val_loss: 0.0466 - val_binary_accuracy: 0.9889\n",
      "Epoch 15/1000\n",
      "1563/1563 [==============================] - 8s 5ms/step - loss: 0.0467 - binary_accuracy: 0.9890 - val_loss: 0.0463 - val_binary_accuracy: 0.9889\n",
      "Epoch 16/1000\n",
      "1563/1563 [==============================] - 8s 5ms/step - loss: 0.0466 - binary_accuracy: 0.9889 - val_loss: 0.0462 - val_binary_accuracy: 0.9889\n",
      "Epoch 17/1000\n",
      "1563/1563 [==============================] - 8s 5ms/step - loss: 0.0466 - binary_accuracy: 0.9890 - val_loss: 0.0462 - val_binary_accuracy: 0.9889\n",
      "Epoch 18/1000\n",
      "1563/1563 [==============================] - 8s 5ms/step - loss: 0.0466 - binary_accuracy: 0.9889 - val_loss: 0.0463 - val_binary_accuracy: 0.9890\n",
      "6250/6250 [==============================] - 7s 1ms/step\n"
     ]
    },
    {
     "data": {
      "text/plain": [
       "0.98893"
      ]
     },
     "execution_count": 12,
     "metadata": {},
     "output_type": "execute_result"
    },
    {
     "data": {
      "image/png": "[encoded data removed]",
      "text/plain": [
       "<Figure size 432x288 with 1 Axes>"
      ]
     },
     "metadata": {
      "needs_background": "light"
     },
     "output_type": "display_data"
    }
   ],
   "source": [
    "# Keras model using dropout and batch normalization\n",
    "model = keras.Sequential([\n",
    "    keras.layers.BatchNormalization(input_shape=[X_train.shape[1]]),\n",
    "    keras.layers.Dense(128, activation='relu'),\n",
    "    keras.layers.Dropout(0.5),\n",
    "    keras.layers.BatchNormalization(),\n",
    "    keras.layers.Dense(64, activation='relu'),\n",
    "    keras.layers.Dropout(0.5),\n",
    "    keras.layers.BatchNormalization(),\n",
    "    keras.layers.Dense(64, activation='relu'),\n",
    "    keras.layers.Dropout(0.5),\n",
    "    keras.layers.BatchNormalization(),\n",
    "    keras.layers.Dense(1, activation='sigmoid')\n",
    "])\n",
    "train_eval_model(model)"
   ]
  },
  {
   "cell_type": "code",
   "execution_count": 13,
   "id": "902f796c",
   "metadata": {},
   "outputs": [
    {
     "ename": "ValueError",
     "evalue": "Keras Visualizer: Layer not supported for visualizing",
     "output_type": "error",
     "traceback": [
      "\u001b[1;31m---------------------------------------------------------------------------\u001b[0m",
      "\u001b[1;31mValueError\u001b[0m                                Traceback (most recent call last)",
      "\u001b[1;32mc:\\Users\\Jörg\\Desktop\\FraudDetection\\FraudDetection.ipynb Cell 16\u001b[0m in \u001b[0;36m<cell line: 1>\u001b[1;34m()\u001b[0m\n\u001b[1;32m----> <a href='vscode-notebook-cell:/c%3A/Users/J%C3%B6rg/Desktop/FraudDetection/FraudDetection.ipynb#X22sZmlsZQ%3D%3D?line=0'>1</a>\u001b[0m visualizer(model, \u001b[39mformat\u001b[39;49m\u001b[39m=\u001b[39;49m\u001b[39m'\u001b[39;49m\u001b[39mpng\u001b[39;49m\u001b[39m'\u001b[39;49m,filename\u001b[39m=\u001b[39;49m\u001b[39m'\u001b[39;49m\u001b[39mmodel\u001b[39;49m\u001b[39m'\u001b[39;49m)\n",
      "File \u001b[1;32mc:\\Users\\Jörg\\AppData\\Local\\Programs\\Python\\Python39\\lib\\site-packages\\keras_visualizer\\__init__.py:130\u001b[0m, in \u001b[0;36mvisualizer\u001b[1;34m(model, filename, format, view)\u001b[0m\n\u001b[0;32m    128\u001b[0m         c\u001b[39m.\u001b[39mnode(\u001b[39mstr\u001b[39m(n), label\u001b[39m=\u001b[39m\u001b[39mf\u001b[39m\u001b[39m'\u001b[39m\u001b[39mImage\u001b[39m\u001b[39m\\n\u001b[39;00m\u001b[39m{\u001b[39;00mpxls[\u001b[39m1\u001b[39m]\u001b[39m}\u001b[39;00m\u001b[39m x\u001b[39m\u001b[39m{\u001b[39;00mpxls[\u001b[39m2\u001b[39m]\u001b[39m}\u001b[39;00m\u001b[39m pixels\u001b[39m\u001b[39m\\n\u001b[39;00m\u001b[39m{\u001b[39;00mclrmap\u001b[39m}\u001b[39;00m\u001b[39m'\u001b[39m, fontcolor\u001b[39m=\u001b[39m\u001b[39m'\u001b[39m\u001b[39mwhite\u001b[39m\u001b[39m'\u001b[39m, shape\u001b[39m=\u001b[39m\u001b[39m'\u001b[39m\u001b[39msquare\u001b[39m\u001b[39m'\u001b[39m, style\u001b[39m=\u001b[39m\u001b[39m'\u001b[39m\u001b[39mfilled\u001b[39m\u001b[39m'\u001b[39m, fillcolor\u001b[39m=\u001b[39mthe_color)\n\u001b[0;32m    129\u001b[0m     \u001b[39melse\u001b[39;00m:\n\u001b[1;32m--> 130\u001b[0m         \u001b[39mraise\u001b[39;00m \u001b[39mValueError\u001b[39;00m(\u001b[39m'\u001b[39m\u001b[39mKeras Visualizer: Layer not supported for visualizing\u001b[39m\u001b[39m'\u001b[39m)\n\u001b[0;32m    132\u001b[0m \u001b[39m# Hidden Layers\u001b[39;00m\n\u001b[0;32m    133\u001b[0m \u001b[39mfor\u001b[39;00m i \u001b[39min\u001b[39;00m \u001b[39mrange\u001b[39m(\u001b[39m0\u001b[39m, hidden_layers_nr):\n",
      "\u001b[1;31mValueError\u001b[0m: Keras Visualizer: Layer not supported for visualizing"
     ]
    }
   ],
   "source": [
    "visualizer(model, format='png',filename='model')"
   ]
  },
  {
   "attachments": {},
   "cell_type": "markdown",
   "id": "0c16ae2f",
   "metadata": {},
   "source": [
    "# Notes/ Disclaimer\n",
    "Through a better understanding of the data the score could be improved. Also there is presumably a high amount of dependent variables and bias in the data. \n",
    "\n",
    "After spending a bit more time on the problem, predicting the target seems to be super simple. After just 1 epoch on a single sigmoid-neuron, the accuracy is >.99."
   ]
  }
 ],
 "metadata": {
  "kernelspec": {
   "display_name": "Python 3",
   "language": "python",
   "name": "python3"
  },
  "language_info": {
   "codemirror_mode": {
    "name": "ipython",
    "version": 3
   },
   "file_extension": ".py",
   "mimetype": "text/x-python",
   "name": "python",
   "nbconvert_exporter": "python",
   "pygments_lexer": "ipython3",
   "version": "3.9.5"
  },
  "vscode": {
   "interpreter": {
    "hash": "904dbc9eb44b6519b4e632c22bb02eab78685beecdffa51d6e38939d005f389f"
   }
  }
 },
 "nbformat": 4,
 "nbformat_minor": 5
}
